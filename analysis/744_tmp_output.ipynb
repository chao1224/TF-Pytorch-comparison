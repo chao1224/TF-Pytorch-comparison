{
 "cells": [
  {
   "cell_type": "code",
   "execution_count": 1,
   "metadata": {},
   "outputs": [
    {
     "name": "stdout",
     "output_type": "stream",
     "text": [
      "Populating the interactive namespace from numpy and matplotlib\n"
     ]
    }
   ],
   "source": [
    "%matplotlib inline\n",
    "import matplotlib.pyplot as plt\n",
    "%pylab inline\n",
    "pylab.rcParams['figure.figsize'] = (10, 8)\n",
    "# we use regex here to parse the output log files\n",
    "import re"
   ]
  },
  {
   "cell_type": "code",
   "execution_count": 10,
   "metadata": {},
   "outputs": [
    {
     "name": "stdout",
     "output_type": "stream",
     "text": [
      "1235\n"
     ]
    }
   ],
   "source": [
    "# we first extract results from Q1\n",
    "ori_state_dict = {}\n",
    "with open(\"part_c_out_disjoint\", \"rb\") as out_file:\n",
    "    for line in out_file.readlines():\n",
    "        line_string = line.rstrip('\\n')\n",
    "        \n",
    "        search_sth=re.match('TimeWindow{start=(.*), end=(.*)} Count: (.*) Type: (.*)', line_string)\n",
    "        if search_sth:\n",
    "            # t for type\n",
    "            win_start_stamp, win_end_stamp, count, t = search_sth.group(1), search_sth.group(2), int(search_sth.group(3)), search_sth.group(4)\n",
    "            ori_state_dict[(win_start_stamp, win_end_stamp, t)] = count"
   ]
  },
  {
   "cell_type": "code",
   "execution_count": 12,
   "metadata": {},
   "outputs": [],
   "source": [
    "lateness_value_list = ['30s', '60s', '100s', '500s']\n",
    "lateness_file_prefix = \"part_c_out_disjoint_allowlateness_\"\n",
    "state_dicts_list = []\n",
    "for lv in lateness_value_list:\n",
    "    l_state_dict = {}\n",
    "    with open(lateness_file_prefix+lv, \"rb\") as out_file:\n",
    "        for line in out_file.readlines():\n",
    "            line_string = line.rstrip('\\n')\n",
    "            search_sth=re.match('TimeWindow{start=(.*), end=(.*)} Count: (.*) Type: (.*)', line_string)\n",
    "            if search_sth:\n",
    "                # t for type\n",
    "                win_start_stamp, win_end_stamp, count, t = search_sth.group(1), search_sth.group(2), int(search_sth.group(3)), search_sth.group(4)\n",
    "                l_state_dict[(win_start_stamp, win_end_stamp, t)] = count\n",
    "    state_dicts_list.append(l_state_dict)"
   ]
  },
  {
   "cell_type": "code",
   "execution_count": 13,
   "metadata": {},
   "outputs": [
    {
     "name": "stdout",
     "output_type": "stream",
     "text": [
      "[3, 31, 100, 1036]\n"
     ]
    }
   ],
   "source": [
    "# start the counting process\n",
    "count_list_ = []\n",
    "for state_dict in state_dicts_list:\n",
    "    counter_ = 0\n",
    "    for k, v in state_dict.items():\n",
    "        if k in ori_state_dict.keys():\n",
    "            if v == ori_state_dict[k]:\n",
    "                counter_ += 1\n",
    "    count_list_.append(counter_)\n",
    "print(count_list_)"
   ]
  },
  {
   "cell_type": "code",
   "execution_count": 14,
   "metadata": {},
   "outputs": [
    {
     "data": {
      "image/png": "[encoded data removed]",
      "text/plain": [
       "<matplotlib.figure.Figure at 0x7f8525ba87d0>"
      ]
     },
     "metadata": {},
     "output_type": "display_data"
    }
   ],
   "source": [
    "lateness_interval = [30, 60, 100, 500]\n",
    "fig = plt.figure(1)\n",
    "plt.plot(lateness_interval, count_list_, '-r', linewidth=3.0)\n",
    "plt.xlabel(\"lateness\")\n",
    "plt.ylabel(\"number of intervals stay the same\")\n",
    "plt.title(\"Part-C Q2\")\n",
    "plt.show()"
   ]
  },
  {
   "cell_type": "code",
   "execution_count": null,
   "metadata": {
    "collapsed": true
   },
   "outputs": [],
   "source": []
  }
 ],
 "metadata": {
  "kernelspec": {
   "display_name": "Python 2",
   "language": "python",
   "name": "python2"
  },
  "language_info": {
   "codemirror_mode": {
    "name": "ipython",
    "version": 2
   },
   "file_extension": ".py",
   "mimetype": "text/x-python",
   "name": "python",
   "nbconvert_exporter": "python",
   "pygments_lexer": "ipython2",
   "version": "2.7.13"
  }
 },
 "nbformat": 4,
 "nbformat_minor": 2
}
